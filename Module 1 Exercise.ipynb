{
 "cells": [
  {
   "cell_type": "markdown",
   "metadata": {},
   "source": [
    "## Questions"
   ]
  },
  {
   "cell_type": "markdown",
   "metadata": {},
   "source": [
    "1. What are the two major types of programming languages in use today? What type is Python?"
   ]
  },
  {
   "cell_type": "raw",
   "metadata": {},
   "source": [
    "Procedural Programming and Object-Oriented Programming. Python is Object Oriented."
   ]
  },
  {
   "cell_type": "markdown",
   "metadata": {},
   "source": [
    "2. Is Python a compiled or interpreted language? Is a Python program delivered to the end user as source code or as machine code?"
   ]
  },
  {
   "cell_type": "raw",
   "metadata": {},
   "source": [
    "Python is an interpreted language. End users get delivered source code."
   ]
  },
  {
   "cell_type": "markdown",
   "metadata": {},
   "source": [
    "3. Convert 10011001 to a decimal number"
   ]
  },
  {
   "cell_type": "raw",
   "metadata": {},
   "source": [
    "128+16+8+1 = 153"
   ]
  },
  {
   "cell_type": "markdown",
   "metadata": {},
   "source": [
    "4. Convert 11101100 to a decimal number"
   ]
  },
  {
   "cell_type": "raw",
   "metadata": {},
   "source": [
    "128+64+32+8+4 = 236"
   ]
  },
  {
   "cell_type": "markdown",
   "metadata": {},
   "source": [
    "5. Decode this secret message:\n",
    "01001100 01101111 01100111 01101001 01100011"
   ]
  },
  {
   "cell_type": "raw",
   "metadata": {},
   "source": [
    "python logic"
   ]
  },
  {
   "cell_type": "markdown",
   "metadata": {},
   "source": [
    "6. Identify and explain the stages of the Program Life Cycle."
   ]
  },
  {
   "cell_type": "raw",
   "metadata": {},
   "source": [
    "- Analyze: Identify, Divide, Re-group\n",
    "- Plan: IPO, Algorithm\n",
    "- Code: Programming Language\n",
    "- Test: Unit test, System test, Integration test\n",
    "- Maintenance: Bug fix, Enhancements, Document"
   ]
  },
  {
   "cell_type": "markdown",
   "metadata": {},
   "source": [
    "7. Create an IPO (input, process, output) for a program to compute total sales amount when sales tax is 5%."
   ]
  },
  {
   "cell_type": "raw",
   "metadata": {},
   "source": [
    "    Input: sales amount\n",
    "\n",
    "    Process: sales amount X 0.05 = sales tax\n",
    "       sales amount + sales tax = total sales amount\n",
    "\n",
    "    Output: total sales amount\n"
   ]
  },
  {
   "cell_type": "markdown",
   "metadata": {},
   "source": [
    "8. Create an IPO for converting liters to US gallons. Multiple the number of liters by 0.264172 to get the number of US gallons."
   ]
  },
  {
   "cell_type": "raw",
   "metadata": {},
   "source": [
    "    Input: liters\n",
    "    Process: liters X 0.264 gallons/liters = gallons\n",
    "    Output: US gallons\n"
   ]
  },
  {
   "cell_type": "markdown",
   "metadata": {},
   "source": []
  }
 ],
 "metadata": {
  "kernelspec": {
   "display_name": "Python 3 (ipykernel)",
   "language": "python",
   "name": "python3"
  },
  "language_info": {
   "codemirror_mode": {
    "name": "ipython",
    "version": 3
   },
   "file_extension": ".py",
   "mimetype": "text/x-python",
   "name": "python",
   "nbconvert_exporter": "python",
   "pygments_lexer": "ipython3",
   "version": "3.9.12"
  }
 },
 "nbformat": 4,
 "nbformat_minor": 4
}
